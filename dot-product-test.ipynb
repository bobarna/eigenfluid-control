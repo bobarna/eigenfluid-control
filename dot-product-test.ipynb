{
 "cells": [
  {
   "cell_type": "code",
   "execution_count": 1,
   "id": "408687ac",
   "metadata": {},
   "outputs": [],
   "source": [
    "from phi.torch.flow import *"
   ]
  },
  {
   "cell_type": "code",
   "execution_count": 118,
   "id": "96f94441",
   "metadata": {},
   "outputs": [
    {
     "name": "stdout",
     "output_type": "stream",
     "text": [
      "w=\u001b[94m(1.000, 2.000, 3.000)\u001b[0m (vectorᶜ=3)\n",
      "C: (xᶜ=3, yᶜ=3)\n",
      "tensor([[0.0000, 0.2500, 0.5000],\n",
      "        [0.7500, 1.0000, 1.2500],\n",
      "        [1.5000, 1.7500, 2.0000]])\n",
      "\u001b[94m(6.000, 7.500, 9.000)\u001b[0m along \u001b[92myᶜ\u001b[0m\n",
      "\u001b[94m48.0\u001b[0m\n"
     ]
    }
   ],
   "source": [
    "w = tensor([1.,2.,3.])\n",
    "C = math.linspace(0, 2, channel(vector=9))\n",
    "C = math.reshaped_tensor(C, [channel(x=3, y=3)])\n",
    "\n",
    "print(\"w={} {}\".format(w, w.shape))\n",
    "print(\"C: {}\\n{}\".format(C.shape, C.native('x,y')))\n",
    "\n",
    "wC = math.dot(w, ['vector'], C, ['x'])\n",
    "print(wC)\n",
    "\n",
    "wCw = math.dot(wC, ['y'], w, ['vector'])\n",
    "print(wCw)"
   ]
  }
 ],
 "metadata": {
  "kernelspec": {
   "display_name": "Python [conda env:eigenfluids] *",
   "language": "python",
   "name": "conda-env-eigenfluids-py"
  },
  "language_info": {
   "codemirror_mode": {
    "name": "ipython",
    "version": 3
   },
   "file_extension": ".py",
   "mimetype": "text/x-python",
   "name": "python",
   "nbconvert_exporter": "python",
   "pygments_lexer": "ipython3",
   "version": "3.10.4"
  }
 },
 "nbformat": 4,
 "nbformat_minor": 5
}
