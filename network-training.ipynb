{
 "cells": [
  {
   "cell_type": "code",
   "execution_count": 25,
   "id": "4e55d95c",
   "metadata": {},
   "outputs": [],
   "source": [
    "from phi.torch.flow import *\n",
    "import matplotlib.pyplot as plt\n",
    "\n",
    "from src.eigenfluid import Eigenfluid\n",
    "from src.shapes import *\n",
    "\n",
    "# Helper functions for visualization\n",
    "from src.visu import *\n",
    "\n",
    "import time"
   ]
  },
  {
   "cell_type": "code",
   "execution_count": 26,
   "id": "1acffcaa",
   "metadata": {},
   "outputs": [
    {
     "name": "stdout",
     "output_type": "stream",
     "text": [
      "Eigenfluid initialized in 9.638376951217651 seconds\n"
     ]
    }
   ],
   "source": [
    "# Number of basis fields\n",
    "N = 4**2 \n",
    "# Domain sizes\n",
    "DOMAIN = Box(x=math.PI, y=math.PI)\n",
    "SAMPLING_SIZE = 32\n",
    "\n",
    "start_time = time.time()\n",
    "eigenfluid = Eigenfluid(N, DOMAIN, SAMPLING_SIZE)\n",
    "end_time = time.time()\n",
    "print(\"Eigenfluid initialized in {} seconds\".format(end_time-start_time))"
   ]
  },
  {
   "cell_type": "markdown",
   "id": "b779bb2b",
   "metadata": {},
   "source": [
    "# Data"
   ]
  },
  {
   "cell_type": "code",
   "execution_count": 32,
   "id": "7e9ba06e",
   "metadata": {},
   "outputs": [
    {
     "data": {
      "text/plain": [
       "<Figure size 300x300 with 1 Axes>"
      ]
     },
     "execution_count": 32,
     "metadata": {},
     "output_type": "execute_result"
    },
    {
     "data": {
      "image/png": "[encoded data removed]",
      "text/plain": [
       "<Figure size 300x300 with 1 Axes>"
      ]
     },
     "metadata": {},
     "output_type": "display_data"
    }
   ],
   "source": [
    "shape_0 = Square(pos=(0.5, 0.5))\n",
    "shape_target = Triangle(pos=(2, 2))\n",
    "\n",
    "# Get O overlapping, and U non-necessarily overlapping ('unique') sample points\n",
    "O = 30\n",
    "U = 30\n",
    "sampler_union = ShapeSampler(shape_0, shape_target, N=O, h1=2, h2=7)\n",
    "sampler_0 = ShapeSampler(shape_0, N=U, h1=3, h2=11)\n",
    "sampler_target = ShapeSampler(shape_target, N=U, h1=3, h2=11)\n",
    "\n",
    "# Concatenate both the union and non-union points\n",
    "p_0 = math.concat((sampler_union.p, sampler_0.p), instance('i'))\n",
    "p_0 = shape_0.create_points(p_0)\n",
    "p_target = math.concat((sampler_union.p, sampler_target.p), instance('i'))\n",
    "p_target = shape_target.create_points(p_target)\n",
    "\n",
    "plot({\"Blue: start\\nRed: target\": \n",
    "     vis.overlay(\n",
    "        PointCloud(p_0, bounds=DOMAIN),\n",
    "        PointCloud(p_target, bounds=DOMAIN, color=\"red\")\n",
    "     )}, \n",
    "     size=(3,3))"
   ]
  },
  {
   "cell_type": "markdown",
   "id": "971b3a47",
   "metadata": {},
   "source": [
    "# Network"
   ]
  },
  {
   "cell_type": "code",
   "execution_count": 51,
   "id": "4a2990f4",
   "metadata": {},
   "outputs": [
    {
     "name": "stdout",
     "output_type": "stream",
     "text": [
      "DenseNet(\n",
      "  (linear0): Linear(in_features=137, out_features=256, bias=True)\n",
      "  (norm0): BatchNorm1d(256, eps=1e-05, momentum=0.1, affine=True, track_running_stats=True)\n",
      "  (linear1): Linear(in_features=256, out_features=128, bias=True)\n",
      "  (norm1): BatchNorm1d(128, eps=1e-05, momentum=0.1, affine=True, track_running_stats=True)\n",
      "  (linear2): Linear(in_features=128, out_features=64, bias=True)\n",
      "  (norm2): BatchNorm1d(64, eps=1e-05, momentum=0.1, affine=True, track_running_stats=True)\n",
      "  (linear3): Linear(in_features=64, out_features=32, bias=True)\n",
      "  (norm3): BatchNorm1d(32, eps=1e-05, momentum=0.1, affine=True, track_running_stats=True)\n",
      "  (linear4): Linear(in_features=32, out_features=16, bias=True)\n",
      "  (norm4): BatchNorm1d(16, eps=1e-05, momentum=0.1, affine=True, track_running_stats=True)\n",
      ")\n",
      "Number of parameters: 80080\n",
      "\n",
      "Optimizer:Adam (\n",
      "Parameter Group 0\n",
      "    amsgrad: False\n",
      "    betas: (0.9, 0.999)\n",
      "    capturable: False\n",
      "    eps: 1e-07\n",
      "    foreach: None\n",
      "    lr: 0.001\n",
      "    maximize: False\n",
      "    weight_decay: 0\n",
      ")\n"
     ]
    }
   ],
   "source": [
    "# Input: [p_current, p_target, time_to_target, current_w]\n",
    "# -> Input dimension = [O+U, O+U, N, 1] = O+U + O+U + 1 + N = 137\n",
    "# Output = [N] force coefficients for current time step\n",
    "net = dense_net(2*(O+U)+N+1, N, [256, 128, 64, 32], batch_norm=True)\n",
    "optimizer = adam(net)\n",
    "\n",
    "print(net)\n",
    "print(\"Number of parameters: {}\".format(parameter_count(net)))\n",
    "print()\n",
    "print(\"Optimizer:{}\".format(optimizer))"
   ]
  },
  {
   "cell_type": "markdown",
   "id": "e3873d79",
   "metadata": {},
   "source": [
    "# Loss Function"
   ]
  },
  {
   "cell_type": "code",
   "execution_count": 57,
   "id": "3808f7a0",
   "metadata": {},
   "outputs": [
    {
     "name": "stderr",
     "output_type": "stream",
     "text": [
      "/Users/bobarna/codes/phiflow/phi/math/_functional.py:181: RuntimeWarning: jit_copmile() not supported by NumPy. Running function 'loss_function' as-is.\n",
      "  warnings.warn(f\"jit_copmile() not supported by {key.backend}. Running function '{self.f.__name__}' as-is.\", RuntimeWarning)\n"
     ]
    },
    {
     "ename": "TypeError",
     "evalue": "loss_function() missing 4 required positional arguments: 'p_current', 'p_target', 'time_to_target', and 'w'",
     "output_type": "error",
     "traceback": [
      "\u001b[0;31m---------------------------------------------------------------------------\u001b[0m",
      "\u001b[0;31mTypeError\u001b[0m                                 Traceback (most recent call last)",
      "Input \u001b[0;32mIn [57]\u001b[0m, in \u001b[0;36m<cell line: 12>\u001b[0;34m()\u001b[0m\n\u001b[1;32m      9\u001b[0m     \u001b[38;5;28;01mreturn\u001b[39;00m math\u001b[38;5;241m.\u001b[39ml2_loss(prediction \u001b[38;5;241m-\u001b[39m math\u001b[38;5;241m.\u001b[39msin(x)), x, prediction\n\u001b[1;32m     11\u001b[0m \u001b[38;5;66;03m#loss_function(math.random_normal(batch(examples=100)))\u001b[39;00m\n\u001b[0;32m---> 12\u001b[0m \u001b[43mloss_function\u001b[49m\u001b[43m(\u001b[49m\u001b[43m)\u001b[49m\n",
      "File \u001b[0;32m~/codes/phiflow/phi/math/_functional.py:182\u001b[0m, in \u001b[0;36mJitFunction.__call__\u001b[0;34m(self, *args, **kwargs)\u001b[0m\n\u001b[1;32m    180\u001b[0m \u001b[38;5;28;01mif\u001b[39;00m \u001b[38;5;129;01mnot\u001b[39;00m key\u001b[38;5;241m.\u001b[39mbackend\u001b[38;5;241m.\u001b[39msupports(Backend\u001b[38;5;241m.\u001b[39mjit_compile):\n\u001b[1;32m    181\u001b[0m     warnings\u001b[38;5;241m.\u001b[39mwarn(\u001b[38;5;124mf\u001b[39m\u001b[38;5;124m\"\u001b[39m\u001b[38;5;124mjit_copmile() not supported by \u001b[39m\u001b[38;5;132;01m{\u001b[39;00mkey\u001b[38;5;241m.\u001b[39mbackend\u001b[38;5;132;01m}\u001b[39;00m\u001b[38;5;124m. Running function \u001b[39m\u001b[38;5;124m'\u001b[39m\u001b[38;5;132;01m{\u001b[39;00m\u001b[38;5;28mself\u001b[39m\u001b[38;5;241m.\u001b[39mf\u001b[38;5;241m.\u001b[39m\u001b[38;5;18m__name__\u001b[39m\u001b[38;5;132;01m}\u001b[39;00m\u001b[38;5;124m'\u001b[39m\u001b[38;5;124m as-is.\u001b[39m\u001b[38;5;124m\"\u001b[39m, \u001b[38;5;167;01mRuntimeWarning\u001b[39;00m)\n\u001b[0;32m--> 182\u001b[0m     \u001b[38;5;28;01mreturn\u001b[39;00m \u001b[38;5;28;43mself\u001b[39;49m\u001b[38;5;241;43m.\u001b[39;49m\u001b[43mf\u001b[49m\u001b[43m(\u001b[49m\u001b[38;5;241;43m*\u001b[39;49m\u001b[43margs\u001b[49m\u001b[43m,\u001b[49m\u001b[43m \u001b[49m\u001b[38;5;241;43m*\u001b[39;49m\u001b[38;5;241;43m*\u001b[39;49m\u001b[43mkwargs\u001b[49m\u001b[43m)\u001b[49m\n\u001b[1;32m    183\u001b[0m \u001b[38;5;28;01mif\u001b[39;00m key \u001b[38;5;129;01mnot\u001b[39;00m \u001b[38;5;129;01min\u001b[39;00m \u001b[38;5;28mself\u001b[39m\u001b[38;5;241m.\u001b[39mtraces:\n\u001b[1;32m    184\u001b[0m     \u001b[38;5;28mself\u001b[39m\u001b[38;5;241m.\u001b[39mtraces[key] \u001b[38;5;241m=\u001b[39m \u001b[38;5;28mself\u001b[39m\u001b[38;5;241m.\u001b[39m_jit_compile(key)\n",
      "\u001b[0;31mTypeError\u001b[0m: loss_function() missing 4 required positional arguments: 'p_current', 'p_target', 'time_to_target', and 'w'"
     ]
    }
   ],
   "source": [
    "LOOK_AHEAD = 4\n",
    "\n",
    "STEPS = 32\n",
    "DT    = 0.2\n",
    "VISCOSITY = 0.0\n",
    "\n",
    "@math.jit_compile\n",
    "def loss_function(p_current, p_target, time_to_target, w):\n",
    "    eigenfluid.w = w\n",
    "    f_pred = math.native_call(net, p_current, p_target, time_to_target, w)\n",
    "    print(f_pred)\n",
    "    # Simulate eigenfluid for up to LOOK_AHEAD time in the future\n",
    "    if time_to_target > LOOK_AHEAD:\n",
    "    return math.l2_loss(p_current - p_target), trajectory_p\n",
    "\n",
    "#loss_function(math.random_normal(batch(examples=100)))\n",
    "loss_function(p_0, p_target, )"
   ]
  },
  {
   "cell_type": "code",
   "execution_count": 22,
   "id": "81eb0059",
   "metadata": {},
   "outputs": [
    {
     "name": "stdout",
     "output_type": "stream",
     "text": [
      "\u001b[92m(examplesᵇ=100)\u001b[0m \u001b[94m3.23e-05 ± 2.0e-04\u001b[0m \u001b[37m(4e-09...2e-03)\u001b[0m\n",
      "\u001b[92m(examplesᵇ=100)\u001b[0m \u001b[94m8.75e-05 ± 4.7e-04\u001b[0m \u001b[37m(2e-09...4e-03)\u001b[0m\n",
      "\u001b[92m(examplesᵇ=100)\u001b[0m \u001b[94m3.42e-05 ± 8.9e-05\u001b[0m \u001b[37m(5e-10...7e-04)\u001b[0m\n",
      "\u001b[92m(examplesᵇ=100)\u001b[0m \u001b[94m5.87e-04 ± 5.7e-03\u001b[0m \u001b[37m(1e-09...6e-02)\u001b[0m\n",
      "\u001b[92m(examplesᵇ=100)\u001b[0m \u001b[94m2.64e-05 ± 8.0e-05\u001b[0m \u001b[37m(1e-11...7e-04)\u001b[0m\n"
     ]
    }
   ],
   "source": [
    "for i in range(100):\n",
    "    loss, _, _ = update_weights(net, optimizer, loss_function, math.random_normal(batch(examples=100)))\n",
    "    if i % 20 == 0: print(loss)"
   ]
  }
 ],
 "metadata": {
  "kernelspec": {
   "display_name": "Python [conda env:eigenfluids] *",
   "language": "python",
   "name": "conda-env-eigenfluids-py"
  },
  "language_info": {
   "codemirror_mode": {
    "name": "ipython",
    "version": 3
   },
   "file_extension": ".py",
   "mimetype": "text/x-python",
   "name": "python",
   "nbconvert_exporter": "python",
   "pygments_lexer": "ipython3",
   "version": "3.10.4"
  }
 },
 "nbformat": 4,
 "nbformat_minor": 5
}
