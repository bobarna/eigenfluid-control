{
 "cells": [
  {
   "cell_type": "markdown",
   "id": "527ef3dc",
   "metadata": {},
   "source": [
    "# Eigenfluid Control Force Optimization\n",
    "\n",
    "In this notebook, we optimize for a control force vector $\\textbf{f} \\in \\mathbb{R}^{t \\times N}$, where $t$ is the number of timesteps simulated, and $N$ is the number of basis coefficients in the Eigenfluid simulation.\n",
    "\n",
    "$\\text{Loss}(\\textbf{p}_0, \\textbf{p}_t, \\textbf{f}, \\textbf{w}_0) = \n",
    "\\left|\\left|\n",
    "    (\\mathcal{P}\\circ\\mathcal{F}_f)^t(\\textbf{p}_0, \\textbf{w}_0) - \\textbf{p}_t\n",
    "\\right|\\right|_2^2$\n",
    "\n",
    "TIME_STEPS is fixed (=16)"
   ]
  },
  {
   "cell_type": "markdown",
   "id": "25114dbb",
   "metadata": {},
   "source": [
    "### Uncomment this when Running in Colab"
   ]
  },
  {
   "cell_type": "code",
   "execution_count": null,
   "id": "20d47343",
   "metadata": {},
   "outputs": [],
   "source": [
    "#!pip install --quiet phiflow==2.2.2\n",
    "#import os\n",
    "#if not os.path.isdir('eigenfluid-control'):\n",
    "#  print(\"Cloning eigenfluid-control repo, this can take a moment\")\n",
    "#  os.system(\"git clone https://github.com/bobarna/eigenfluid-control\")\n",
    "#import sys; sys.path.append('eigenfluid-control')"
   ]
  },
  {
   "cell_type": "markdown",
   "id": "539eb2c4",
   "metadata": {},
   "source": [
    "## Imports & Initialization"
   ]
  },
  {
   "cell_type": "code",
   "execution_count": 1,
   "id": "3aa0c066",
   "metadata": {},
   "outputs": [],
   "source": [
    "from phi.torch.flow import *\n",
    "import matplotlib.pyplot as plt\n",
    "\n",
    "from src.eigenfluid import Eigenfluid\n",
    "from src.shapes import *\n",
    "\n",
    "# Helper functions for visualization\n",
    "from src.visu import *\n",
    "\n",
    "import time"
   ]
  },
  {
   "cell_type": "code",
   "execution_count": 2,
   "id": "96f70671",
   "metadata": {},
   "outputs": [
    {
     "name": "stdout",
     "output_type": "stream",
     "text": [
      "Eigenfluid initialized in 5.884675025939941 seconds\n"
     ]
    }
   ],
   "source": [
    "# Number of basis fields\n",
    "N = 4**2\n",
    "# Domain sizes\n",
    "DOMAIN = Box(x=math.PI, y=math.PI)\n",
    "SAMPLING_SIZE = 32\n",
    "\n",
    "start_time = time.time()\n",
    "eigenfluid = Eigenfluid(N, DOMAIN, SAMPLING_SIZE)\n",
    "end_time = time.time()\n",
    "print(\"Eigenfluid initialized in {} seconds\".format(end_time-start_time))"
   ]
  },
  {
   "cell_type": "markdown",
   "id": "29021365",
   "metadata": {},
   "source": [
    "# Initialize Start and Target Points"
   ]
  },
  {
   "cell_type": "code",
   "execution_count": 55,
   "id": "29e5c177",
   "metadata": {},
   "outputs": [
    {
     "data": {
      "text/plain": [
       "<Figure size 216x216 with 1 Axes>"
      ]
     },
     "execution_count": 55,
     "metadata": {},
     "output_type": "execute_result"
    },
    {
     "data": {
      "image/png": "[encoded data removed]",
      "text/plain": [
       "<Figure size 216x216 with 1 Axes>"
      ]
     },
     "metadata": {
      "needs_background": "light"
     },
     "output_type": "display_data"
    }
   ],
   "source": [
    "shape_0 = Square(pos=(0.5, 0.5))\n",
    "shape_target = Triangle(pos=(2, 2))\n",
    "\n",
    "# Get O overlapping, and U non-necessarily overlapping ('unique') sample points\n",
    "O = 1\n",
    "U = 1\n",
    "\n",
    "p_0, p_t = get_points_for_shapes(shape_0, shape_target, O, U)\n",
    "\n",
    "p_0 = concat([p_0, shape_0.create_points(shape_0.get_trivial_points())], instance('i'))\n",
    "p_t = concat([p_t, shape_target.create_points(shape_target.get_trivial_points())], instance('i'))\n",
    "\n",
    "plot({\"Blue: start\\nRed: target\": \n",
    "     vis.overlay(\n",
    "        PointCloud(p_0, bounds=DOMAIN),\n",
    "        PointCloud(p_t, bounds=DOMAIN, color=\"red\")\n",
    "     )},\n",
    "     size=(3,3)\n",
    ")"
   ]
  },
  {
   "cell_type": "markdown",
   "id": "1d927b1f",
   "metadata": {},
   "source": [
    "# Loss Function"
   ]
  },
  {
   "cell_type": "code",
   "execution_count": 4,
   "id": "08629f5b",
   "metadata": {},
   "outputs": [],
   "source": [
    "STEPS = 16\n",
    "DT    = 0.2\n",
    "VISCOSITY = 0.0\n",
    "\n",
    "# Initialize the force vector to zero\n",
    "f_optim = math.zeros(eigenfluid.w.shape & batch(time=STEPS-1))\n",
    "\n",
    "def loss_function(f_optim, w, p, p_target):\n",
    "    trajectory_p = [p]\n",
    "    for t in range(STEPS-1):\n",
    "        # Step velocity\n",
    "        w = eigenfluid.step_w_euler(w, DT, viscosity=VISCOSITY)\n",
    "        # Add control forces\n",
    "        w += f_optim.time[t]\n",
    "        # Get velocities at new positions\n",
    "        v_phi = eigenfluid.phi_template(w, eigenfluid.N, eigenfluid.basis_fields)\n",
    "        p_velocities = v_phi(p)\n",
    "        # Midpoint\n",
    "        p_velocities = v_phi(p + p_velocities*DT/2)\n",
    "        # Euler step for points\n",
    "        p += p_velocities * DT\n",
    "        trajectory_p.append(p)\n",
    "    # Normalizing by the number of sample points\n",
    "    loss = field.l2_loss(p - p_target) / p.i.size\n",
    "    return (loss, trajectory_p)\n",
    "\n",
    "gradient_function = math.gradient(loss_function)"
   ]
  },
  {
   "cell_type": "code",
   "execution_count": 5,
   "id": "ae6db7e0",
   "metadata": {},
   "outputs": [
    {
     "name": "stdout",
     "output_type": "stream",
     "text": [
      "Initial Loss: \u001b[94m2.3182316\u001b[0m\n"
     ]
    }
   ],
   "source": [
    "w_init = eigenfluid.w\n",
    "\n",
    "# first gradient\n",
    "(loss, trajectory_p), grad = gradient_function(f_optim, w_init, p_0, p_t)\n",
    "print(\"Initial Loss: {}\".format(loss))"
   ]
  },
  {
   "cell_type": "code",
   "execution_count": 6,
   "id": "89514236",
   "metadata": {},
   "outputs": [
    {
     "name": "stdout",
     "output_type": "stream",
     "text": [
      "Optimization step 0, loss: 2.318232\n",
      "Optimization step 1, loss: 1.945772\n",
      "Optimization step 2, loss: 1.386693\n",
      "Optimization step 3, loss: 0.991361\n",
      "Optimization step 4, loss: 0.725080\n",
      "Optimization step 6, loss: 0.479465\n",
      "Optimization step 9, loss: 0.290514\n",
      "Optimization step 12, loss: 0.195686\n",
      "Optimization step 15, loss: 0.145834\n",
      "Optimization step 18, loss: 0.118416\n",
      "Optimization step 21, loss: 0.101609\n",
      "Optimization step 24, loss: 0.090290\n",
      "Optimization step 27, loss: 0.082120\n",
      "Optimization step 30, loss: 0.075894\n",
      "Optimization step 33, loss: 0.070940\n",
      "Optimization step 36, loss: 0.066861\n",
      "Optimization step 39, loss: 0.063413\n",
      "LR = 0.005\n",
      "Optimization step 42, loss: 0.060909\n",
      "Optimization step 45, loss: 0.059548\n",
      "Optimization step 48, loss: 0.058269\n",
      "Optimization step 51, loss: 0.057064\n",
      "Optimization step 54, loss: 0.055924\n",
      "Optimization step 57, loss: 0.054845\n",
      "Optimization step 60, loss: 0.053820\n",
      "Optimization step 63, loss: 0.052845\n",
      "Optimization step 66, loss: 0.051917\n",
      "Optimization step 69, loss: 0.051031\n",
      "Optimization step 72, loss: 0.050183\n",
      "Optimization step 75, loss: 0.049373\n",
      "Optimization step 78, loss: 0.048595\n",
      "Optimization step 81, loss: 0.047849\n",
      "Optimization step 84, loss: 0.047133\n",
      "Optimization step 87, loss: 0.046444\n",
      "Optimization step 90, loss: 0.045781\n",
      "Optimization step 93, loss: 0.045141\n",
      "Optimization step 96, loss: 0.044525\n",
      "Optimization step 99, loss: 0.043930\n"
     ]
    }
   ],
   "source": [
    "LR = 10**-2\n",
    "\n",
    "grads = [0] #initialize to 0 for momentum\n",
    "\n",
    "for optim_step in range(101):\n",
    "    (loss, trajectory_p), grad = gradient_function(f_optim, w_init, p_0, p_t)\n",
    "    if optim_step%3 == 0 or optim_step < 5:\n",
    "        print(\"Optimization step %d, loss: %f\" % (optim_step, loss))\n",
    "    if optim_step == 41:\n",
    "        LR /= 2\n",
    "        print(\"LR = {}\".format(LR))\n",
    "        \n",
    "    grads.append( grad[0] )\n",
    "\n",
    "    # optionally with momentum\n",
    "    f_optim = f_optim - LR * (grads[-1] + 0.85*grads[-2]) "
   ]
  },
  {
   "cell_type": "code",
   "execution_count": 8,
   "id": "8b686f16",
   "metadata": {},
   "outputs": [
    {
     "data": {
      "text/html": [
       "<video width=\"288\" height=\"288\" controls autoplay loop>\n",
       "  <source type=\"video/mp4\" src=\"data:video/mp4;base64,AAAAIGZ0eXBNNFYgAAACAE00ViBpc29taXNvMmF2YzEAAAAIZnJlZQAAL7ttZGF0AAACrQYF//+p\n",
       "3EXpvebZSLeWLNgg2SPu73gyNjQgLSBjb3JlIDE2NCByMzA5NSBiYWVlNDAwIC0gSC4yNjQvTVBF\n",
       "Ry00IEFWQyBjb2RlYyAtIENvcHlsZWZ0IDIwMDMtMjAyMiAtIGh0dHA6Ly93d3cudmlkZW9sYW4u\n",
       "b3JnL3gyNjQuaHRtbCAtIG9wdGlvbnM6IGNhYmFjPTEgcmVmPTMgZGVibG9jaz0xOjA6MCBhbmFs\n",
       "eXNlPTB4MzoweDExMyBtZT1oZXggc3VibWU9NyBwc3k9MSBwc3lfcmQ9MS4wMDowLjAwIG1peGVk\n",
       "X3JlZj0xIG1lX3JhbmdlPTE2IGNocm9tYV9tZT0xIHRyZWxsaXM9MSA4eDhkY3Q9MSBjcW09MCBk\n",
       "ZWFkem9uZT0yMSwxMSBmYXN0X3Bza2lwPTEgY2hyb21hX3FwX29mZnNldD0tMiB0aHJlYWRzPTYg\n",
       "bG9va2FoZWFkX3RocmVhZHM9MSBzbGljZWRfdGhyZWFkcz0wIG5yPTAgZGVjaW1hdGU9MSBpbnRl\n",
       "cmxhY2VkPTAgYmx1cmF5X2NvbXBhdD0wIGNvbnN0cmFpbmVkX2ludHJhPTAgYmZyYW1lcz0zIGJf\n",
       "cHlyYW1pZD0yIGJfYWRhcHQ9MSBiX2JpYXM9MCBkaXJlY3Q9MSB3ZWlnaHRiPTEgb3Blbl9nb3A9\n",
       "MCB3ZWlnaHRwPTIga2V5aW50PTI1MCBrZXlpbnRfbWluPTYgc2NlbmVjdXQ9NDAgaW50cmFfcmVm\n",
       "cmVzaD0wIHJjX2xvb2thaGVhZD00MCByYz1jcmYgbWJ0cmVlPTEgY3JmPTIzLjAgcWNvbXA9MC42\n",
       "MCBxcG1pbj0wIHFwbWF4PTY5IHFwc3RlcD00IGlwX3JhdGlvPTEuNDAgYXE9MToxLjAwAIAAABAG\n",
       "ZYiEABH//veIHzLLafk613IR560urR9Q7kZxXqS9/iGvqhKqtsxu6ngKfe6YAr4MsaKK6LlkhuUW\n",
       "LoYjqra6AQm7D3eX+Bf7VKN3Yh3EbSMBSBGWfh+10BOdeO/63+FywZ6iZplqpTH8Ab3W2Jkhl5Z5\n",
       "K97Z+2bttXppr1hsE41ijHXzRVcQ4ZC2jpsZgHZDFFltk3Ais/medoAePLzTIXW1KaZQUrggNVX3\n",
       "yP7hSWTbfz91/NQ6ZO1j6IN1WV34FUbl3Hry3y0XlDFri9r7TT+y68SYFFZK4TrUq2FvXbwaYaUS\n",
       "ZirSK59HVMSI3r+mJVLndud/624o09u6LBkXwwQJxeLFf6LjCxb4L8rXatiBBzpOYPU10xCZJyDx\n",
       "+sMfpQ7BRCk3pqWi7y9xJrwlUiqcjz/+ZUSJLQygPcvLGWJH3VrMSnLiVUCbnwYMsZAJ/w9KhGLj\n",
       "21sIoFxEchTSFBT7NaO53phaHDtrqbfYaAGOUay659JUqUM6T5GsdOQUqWE4wBVqJkmyrreGwt8V\n",
       "E7wknYyFVBN9pyjTDMvhRjJNKBCo9fVuc+QoyQJl+F6NSGXqtvenMMdgnYzbtAI9MXsGk3FgV1Mn\n",
       "Rfx2xH7BLnHTVn9jAS/aeBkusAOzwUelYsZaYivYrEgwfX3EaOXlsC+DBY97xU/W/Jq6v6pRKWUu\n",
       "RbwfFkJxI84+wsHC9+m4j44CQZ2JknP1PkT3+FL2HxokSqrWr+obnEooi3n0wTR+xVMZwYB0a+iP\n",
       "aM5TTCeR5p5HTUNmlt4wVRWSnPWQSyQ/dmlgV+NmCwHw/x/g2TS0ScybGbVKyFYWMP8gerp+dX6o\n",
       "UiZzjL2NXCZbZDUfkzE9phs9dk+EOtLOOmlTiOYWD5mIMDkklGTADaINn+koQdwH4QhCVjtNnzSc\n",
       "pOvxJ1uU9FlMiPFxC1X1r3yy28Jc21ni3kH48XlDjdHDb2KJR15t2QrX2AACmyera5067Hr4/TYG\n",
       "keQLN/Ng6b2ZJ8f04x0F9qEjFgGxIRghhcJAf78W+yyHyUkXpqwlGlGejemFiBKkNOLXLdq0JZsw\n",
       "BYrbNyXbmepvSjIaTPj+rS3ifkrBq458Qusah7v26ruP8HvE2QX0oy0EJEgIklOhphjhfawAqH3e\n",
       "57tt0njHC0/DtOlR3KdcHR4CsWoMhKb+f8+bXYQVbXa9CPsJxRpf3V+XQ8mGUJnSmXCAUeSjV0TI\n",
       "H5+3Txh4tDyI3oK7M9V7mLLG7j2xouh85MudQMfwqyops1ofTdDLeHwqqrOUM7LyD1h2uw98Rv8+\n",
       "xIk3W7Twn5qLkJQDWU81J2X07J43sksyZ+SqpeYhiI7L0p8mHPg5Cdg2H4zd9iv1GD8Wmw4japLH\n",
       "aYJ2xoHEMDkvxx3jq0nAM/mhORbeEJsU1DFh32CbE1MPXqGtQwHL0bLVvfPXJD6SfCaKuZrelY+T\n",
       "/eo2TygWn8FdwUdKRrK2XKoeSoiFixJRmui7GFS9INw040QaBv6eO9mfp8Ha0XxGCiEQMjELFE84\n",
       "9UCJseSqbXJhzKtNHVjGHf61uDkdJj34xLcntZCNG6nqqMw6GD9mDXiRyIjIEZTtnouMPGpezGPk\n",
       "b8V02G/shTHQH6TrkStLyDZnJbAzS5lmNFGXMO+U/ZaK/4hapD9ZjiwrNFrdsx3ldG6cRRaJpVg+\n",
       "iCoQVn4/lssJ3slDjp+PM5s+C3wIMrw9sxZ5yoDBhTHPZBL/NUvOs61PVHuq1+l4ez162vFnB8Z+\n",
       "KqkYi1Kd1pyjVEgujWLnEow9C9QCSJZlVwCIx9b70r/evJqhSKImJEjp+Jd2ekcGv0TRYzukLoKZ\n",
       "mVl/mMgBHFHmCShnNhP1GS0QvM3w6smoMjpDEvV7liLb0R487iSduG+8j3sGL/9FbLP9MZ2tP+2v\n",
       "9yKyYz+Rtv3IY7yA6GGGbDEtJlqtn4QxMvNsebOle9QKRlOtwEUAQhYqYIgl5pH7EbjzZWkTGIpp\n",
       "XF7l1SOmzD+9QEjjksIlgLYixatK7rIJTabb0RoRGwblQSS9/SiHmH3vtCQAqp8b2/kemQmA4SoV\n",
       "XdfJShIj9aKjqqdoJKPiAt/AM+OZZOP26ZLVURJzzLsV4QIk56HuFdNeygRD6POSkuzk1Twu4nAS\n",
       "e22rNXweg+Eyd+m1B8oy07MkHPzV43Q/AsXMBaHurTEQVppFi9gVt8P799Z/VmllmcSmHY3p32K3\n",
       "H+eaqVcwX0bxYhcQI6GWCuGXZvK4romLlmak5eGLDUYjXYg0NYvKSYNzqAO17/n0cx1LNsg86Lnu\n",
       "82CKLRu9mVKKbjdMyQddQxzsLpiJyBmZji9P6gs0vp0aAqOXRTrh5CVgYF/k+P8s/nhcxoNd9r2M\n",
       "L21sqdB336w/BH/r1wLNHJ/4UEQNSWQmad/oahgdS8dPj0YY14sJL7Pq3kresIp/4uD0NftzaiXI\n",
       "RI1s+8gEp6WWo4FeO5cDovrzQhacf5A9XUBX/myOCqwHPTRu+HXq90ZiBlk4tGhobVTDq0brcn3J\n",
       "cbB0ZcGzkB/fJsffCPCFjSBm0sPLfLRH8yIdehA3yD2YM1mKyczxzCfUSFUKn3NvX7nWDidSZUTD\n",
       "Z75TxHCHwRTT7iXsIAIMsJjXOjt273UoncCTiM4NMgVKWPE/2Vu0c9JNtzhS1HqQiHDNesoDwHeo\n",
       "t9PyDN8x6fFJqvgV1e+1uiWDmj5u31+/C3uq9eS5wkZk2hhZqmgV77NNrTLQyBADRZDOfiz+PF5u\n",
       "R1iLVPKN/z8YA+xeWvyq+5x1w9qSQsoiqre56dOL1afadSmMC+XVV8L8ngySi5fxjXAX7AmkzV/t\n",
       "AWaAtQw83hkb7hxPOpVMFqB3A8wei4qq/6/6EKSTqdkjmdZR71syDSJ8+Vob+qoGFczlbMP3FkF3\n",
       "8ohmLwZZm0XBCZ6gLd02TmbPVNXyyCfGMwaTYDf5NNVpQAQst/9d9kHG6po2vZ934fgYFEnYQZdT\n",
       "PKjG2X+eej3/kX4N5pETkQJOykGURfixj3pT8+mBEC3HdmQ4DGAM3u98KAiA0mbwpXpdJ+ID7a1j\n",
       "H3J3r9npfAGdR1j+vYLkRZg6cnjevn80hoGqb2TCgzLkX4JjJFi+57ZkQM4UiCpJuR4Klmd8eLBO\n",
       "p2uYtr5gLE6w3I6NZk+DT4GAK45rZm35O0cxKrEzWHLWth2fAM/V5rijvWzaOiSnFy4beFZ9dZEC\n",
       "EtegoNuKhyna3BXCjvsylCWirNPmYrRIkQH3ihgpF/Vkj8YXYP371YDnmFdeyWC+rjIOQXHmwPdQ\n",
       "Dqtj40vGl1V0nQ4Wjx7ml6Dlru546tae/PFdjM2399D5ZOe6nhxlY8Y0SICiRnd82/DKw5OgTUPf\n",
       "NPSy53MTIEigKnyHDE/7wPA7fqb/k2+f3FpkxqZ1IVXytgDcw3N4utLiDA8Jt2B3ooZE+tvMxdh2\n",
       "jSUqkprYVB7mjMyT6VdIaYvZMb9GhjZukmvjDWnyUJro8q37AltQFlV/QciON8Lrv7OfsaqeGBqk\n",
       "N8ysQe3RtkH9/fWfooErouiz0VPE+d5Aw6kHw00aD79s2d81TVUaRvptsSfkcC3oJ50CNUtCC9BW\n",
       "8lvVbrJ1X6QT+9aOPcMl38+ftMfLJOMRtWeC/W0PWRJlmI7OIQnuXY0HJuXzmvKil0PHlIYFBXbY\n",
       "+DlPG1YiqGDPpNKfdqadWFCnZEEDOLcYsT+JuO5sIgno3wwryyk0je6PoM5f2YQQUnFvtYPaLJb2\n",
       "gjU2EPaJ2VVKVydqOB8DrjZgDjdpK+uMv5+WGy0pJBhVaCjnPVQOhTqRoakUlNYf4c/1Jaus30Yj\n",
       "NMtCv3m+ZMx09rid8UTEnDwuJK7G9js/3iI/tSCZd+gqNUKJDC2Gedfco7q5m4Sij1NKbO4t8eRD\n",
       "LslFQN+dvApzQ8y44WrIfb5YMyWbdqIAbWuPC+5mU2Mzl3EcViKpUkpos9t0iWTMY1Cnup/SswuS\n",
       "ZFLBmeSa0upYM9aXt9cSGZWe/+PpqRHv1zrVCkWquWSMQB5Q6kX6c1X7dbNGQlY/eD4+lqGTDHvz\n",
       "64dtMrujnzpXvx/7G+6zThP7SRrPFFAHcusPPE2nGSvUTT2LtTj3K6Hs7C65Tc9UeYjwldgxlUP6\n",
       "mNrfJgOLr7NXinLVDwHI9keEOU+urLmc6rov8T9uAN/XuGkp6UX2pXz37C1p/VUVQCEIhLreUg/V\n",
       "e2yUENd3SsJwkRPernaHGjWCZaSgx/I0o/5iSFkBnxjjdvPzBZ/8GLOgRP8rBDP1kJu4iJoEtVpl\n",
       "KrBeN7snZP2K/rIXRpi7weu6DZxZrGXqRo6xoRB9kqKnYHZUUjmTXr3/iDCTHpqMMHgKqKMWjRsA\n",
       "GcqIwB+vZtXdzHaUi3Wa6/IqNTyQXx3nE80fihYgJ3e8WpiBS2VaOjr2cn4Mn6G5FX+nttYi/7Va\n",
       "ijExSn8YDq/RVEgsvFaFYjtEzY9egfIxmzjnlJFmRnwBuPhFippsUaPKDSviZpoUv+Ami4FeD4Hs\n",
       "2WEIdE0Kt61CQP1nMhL4cR1hiMFf7OSg3t9tMQdocB/U8KeIPOlFNhBVj/Gap7zCA5CH6OMhHjfY\n",
       "7SjgG8V94O836laAQyeyC6edKMCQf56aJHjYMtdkjIpY1hz81CPSKFMMBFXBNt6isT/V7Fw3/cjN\n",
       "I2bI5WqV/7w4aNQP9ygtPu1QCaqJ4fMtIlxWoYCuX9g+/ybueEgdjg0lvDGAcFP3vw5mhizh6rKy\n",
       "MxbNFSunxUzUKlqm7HBQlsMPO0bKVyw4RnK787mozz2tExEEosHUmuw0ura5jhuK84PxywElRn5K\n",
       "NPl3koGBLnacBd4ldykNfsjePQKROQIUgAbJ+uUjg8dSiHsP6KJ3nCDdMloZEBHXfZWo6L3M3ouV\n",
       "S8ad2GDfy89mlCb6MlL3rNXjMsdPh054VyoBrqNmK66n2c+tOt8t4Ti195P16zzgTeHh/ClWLrWs\n",
       "v09LkjiJTbjPEgvecl8MGWgP9xHUbKdxd1j5hYl6xmEx/9Tl+IY4ZvW7DuL3WCYNmItuP1dWJi4a\n",
       "10t2POQa5lZ97w6WA91j/EAG+pO56Tpj2WfYRO3am18TvKtWAjuJC8qfzxaYsbVKBgs+NY5gyKo3\n",
       "ZtGtt5XAmKi1y+dY59tExyU+tSmbw5RhWhP1vsPohsjmgoDH0pjNbcmtm3/2uS1ZJpDGu1PHLsJV\n",
       "A2+RlFxLZFAdKKZoUM0ds7jSBuowpLOuvo/n0dBg+pX6kPAdiCOApS34IKWnzyb497yuI8FzOaOb\n",
       "4EUSxiTysl2eSbz/1QOQ6/1f0/Vd0RU2y1Ohai2zkRZ5olyn3SNmUE01dfw42RF7pYXPC/34GoGB\n",
       "HqnyZu+8hlBrd+NnQLEIhIIkre3sZlFJ7Bi08X9ghY587XvWkW/cdqlqfpcYxrDm0yuzulVbM5ck\n",
       "zS3TKYavwEWv3V5Fvq2l/xiWUqYup8yB1i2yx4u5zVgConFwTGmUkazealXdF/hhLI74eTvZqQAA\n",
       "At5BmiJsQR/+tSqKdUrgCMNkT/39sGv8/L96HbFyhOgaIfFGu3HJ5KZVw87n5qKIYAIJ56hfIRCH\n",
       "4+4Fs7/+nJTEVnCSAUwMhPk65qdSj7n5KPdRycOSEQALcWjU8d4kZNG1k3X7XgggZPN6d6Nt2lEY\n",
       "F20WoiTC5USZnK4UP3xn4HBHw5XFMBaHq/02/E4mr31S0kYYieCqFc45KYolgTo4oyLYxsgIpz6q\n",
       "fcYa5plaBoUR48SRhC8Ejb6lWpnWL0f2oOSGtPeMmzu48lFt70OcfAE2a4XuAqO29AYKUvVG0oDh\n",
       "9BMSMwchU7uNP7L5qIQpMfqEBr3RpcD1h2XWcnTNDDet+q/alCLuweT6ZLMr/etj7iauMQWDD2Uz\n",
       "0vtg0L76ndmChEYi0zTw3cmtmGTwHUQ03tdYM8rH5tlH16nzqyLGimR+xonnbCpBuKowTXURhODR\n",
       "FG4Cna8ljv1jcA+WfNs0+zdkpZ0A4HeEr6p3QkWjK+b6dB6z2l58tmWNLlM15PPET2xsn3v96DCm\n",
       "Ax4njCGqkQfylBLF88Om4RrpJeEKkMmBB9N7qjaXyoa6/2asM8X8inZJq1umXfaTNL5/OPlnRZ0W\n",
       "g26ekTgLGXasOwX+NiDhURoxXXkXQFSfcHqlKkauzf/4rCZR41MRBi0MWLLC9z6/mKs6S8zKgKRO\n",
       "Eux8KMGeHBpQBGVhheJpeDorsuH7XXHzLLEIKj8buDYWIMPB70K3LIV7vSV+ZNZiiAlS480ogtYP\n",
       "OVhwMSR36Y15HSr1k+O0T3FYIoXhMUONOOpq2PnZYDQZnRxiOfJmjIbOjHZRgOQv85+9TCJdo+Gc\n",
       "vTQST+3RzCyICwltHNYzzNWSx3vXIf7bfH3aBFhKH5IJNcIB9G3a5zgZMxdICRO0dAAyl5CPwuJo\n",
       "m6ChiXW1A9TXs282iJZeriyKL9HFlzFqg3EHZFyBLbme4NfkXQ6wVAEzOQlM2PTv1uoKHAAAALwB\n",
       "nkF5Dv8B9V5UAEP1iR2sdrbV6PLGzA0Uezg384q2qYArzuY9h67q52uZq4N8Zy4+QYm1NTrnTpF8\n",
       "HbysMYCQ4kE1nsCJMJDcAflfzvbbuUAmxVZmqvceRU6x79uGqCj9I7V+TrVfIM69DyvQ3WjEYvFS\n",
       "0GPN2PuHj0fZYXJirlrIqyD6nnpwaPrw1eCyDJKOziRQJtGVXV5KZsDYalY3oWrbQWLYEWs2e5cm\n",
       "hy8CpXAkiNRhOIXBJusoIQAAAe5BmkQ8IZMphBH//rUqinqlcARij4Qmji27F3FuWFQrn/S4KYU6\n",
       "zrAurgXB1dPcxv6mGFBWrokcR0wlDVidVNEpAmTy3a1uiWT9Xwz+IAHpDMLpNYJAO6PmEaAbzXJc\n",
       "SLLjg120lBlsp9VPwF8CSuajs//EG9yF2/3T4/4TKDTNUkghTByUAtT93Iz8WjJdm2nUV0nXk6oC\n",
       "DhZvV8sAqvL0noiAeG897gogMaX//ZULdn2r+w0quOrLTJfina1ZEwUQ48ebG1q/whyb2MdXTEHL\n",
       "huZaIsU6clEguvxJNTw67hR8ZlnOOpmwOE9ki+IHLVeefTvU0Cl28e53xZ9x1fD2/gFmWv5VaBaH\n",
       "TqYTj6RRCvOpWIkm8dpW3lJaA/ImpjCNZ9JtnwarDIwPW6wbYGtJVKoIGS7GIIjheVdyQ1wxS2Bj\n",
       "yrIKVlTmfalmyWXPI6sPQtb1pnl3sgtQwQaORwpPk4JljRxDDoxdIiEokyL4z+OOdRKip0wKcLxT\n",
       "HIEZeRjjwVPDlnMTDv3USTfAQ1hK3gqdIpIzMJi70L2bub1WR+z8/KBvLsNKq7nBSoPpZ6Mdo0nE\n",
       "SctUpJAV0880ltlBXCOOUq9wsyfuCQunvcIkElxdl4+CYIUwKoM1xKHbctX1BkoKYCkBKVL5X0MY\n",
       "CAAAAS8BnmNqQ78B9kUqACH6xI7W128kwdpm31cy3rY4x1SWIEipWED1aYuOi71HRdVte+ESRETr\n",
       "zyj+TcNJaledK4coK/OfInKkMzisNQX8AqWaicM+LgBtC89YCf2t1OFmhiKIhvYJdoI+WwDWnkhq\n",
       "Kh1ncOhWjKVL7LnES9J+27vCC+6dlYD1Smdu/zRtohTqLXMJWsMN6NACzAxufWJLYk9e+uqKNB9a\n",
       "Aa5OYTML1IRhWlVTSWQ2HEJVvHpwQ7WODoVy8W0U8dN+moQA7KCfc26NcoAwqKFHgjLIDUbRuUt4\n",
       "6/otIEG5wT6WuMye1rT1/GaX6+Ws5x8GB2uYtBV6eNRUiT2l6gn4h7z/ZfguVjD3h+DkAUTFQNUS\n",
       "R2F82yDnEglS9Fly6PYyz4f5fNSQE5EAAAHDQZplSeEPJlMCCP/+tSqKZc6gAbojqsminCQvEpgs\n",
       "qFc96KEb/fzYCAjLQ4SJphcOYTflkJ8dDjfpo/T/8IY265E1nj+05e+SKZX+qnqHrtuzkkmhh0rK\n",
       "kYfh5V3l0raJxePScVI0rvfWxlBvgq6Cj8cWvUQ4Ht7imHwv4tTIEPi4bjr1XHrhOOWZ6mKT+lwE\n",
       "jQaP6QlyWfthb8fFiY4Q7eG0sckW5OWM9VSsiuP/oZ1Nf+udE5Pz9NPPhT459PZZLoaH2QdLZVfy\n",
       "iEj3LoIodjPX2IFXSK6SA5/TwKAxXiRCzTN50TzRi1qM9gyVvETHTcQhbE4uyF8FP/v28c/eJn9Q\n",
       "D1qSf1VcNIhQNGMvcpVbO32rC2MXPe4dDbjX5hP8m0jeZN5LGjMH+4HEAfQd4300wo3JsvXFDy3D\n",
       "0JZ75XMvm8nlnrwZ6ramXJYVGbCk93KPPMxlCXKTujlJTmvHq0MUVbJsPuPOW63VoxCZyoYOu5Ew\n",
       "/uQIz4I4Wkqrl1ixOjv1r4o20oV2VpN4xiCmIpZkiQjkcujW/g0fR5wWRhNtH1g6YzZBlC2fNz58\n",
       "MU2VjOZzg5h6LAmHC62bJxBNKHEtIQAAAbFBmoZJ4Q8mUwIJf/61KoprHRAAW64E7EdtFBeJRsfg\n",
       "TMgTPX0NIPkrAfrftUx6WLvpNVTOn/XkFcXZ/fppNC1xnl6ziQPuCFim6YM58CNTdQ7lDFZCejfO\n",
       "mJjilEeklF5G/hr3MTuNT4DHJzO1ze9BCW3rGSfXWXBKGQdkaWk5k2pELiHt5hfOtHirYrQ5G8UZ\n",
       "I3S7vWqqQYUrLAZyTzYP7Zj5snxSUHRYmVKyCStJP/CT/HTEILmGz9P6q6h/zDNT9Ab8BHU15+oB\n",
       "6Ee857DG1EGYj/Vcr7ZB/K/bEZKOo7Z1QB9vyn3ZR+0TWfhQjU+bdCMFXZOMx58/zAsgWTxF7sHv\n",
       "JKBgRG8I+LH59LnUe/zKols4Pb4zjAe2ymPEWyIehj8/zc0cfdt8fEAU/3N0Jx6OF6LVJFL6zZ6k\n",
       "faT/eUTciEaSmkQt9ecHdFGFRa0sZuNMheyWxql6/wuF2wVpdH8cN5zbcWitNqCw4NRXQDsYw2Zm\n",
       "dcnYge7v1kz3kvSoonxXs/d0PKio369a9+hWlXq+UXXaF8cPUEf7OsL78XMCSehi7zpOQkzhpUy1\n",
       "7duBAAACokGaqknhDyZTAgj//rUqimkWbgBdHRquWdumL9yjDXas1CPbpdtFgI9lyxaUoU734ej0\n",
       "GGDKDQn2l3rvJfdUmMugdqfHbdbFYkRpHO8VUz9f5dqyHT5a49NMV1P8T05HEUqt533ZUgpsPAeD\n",
       "KcLwdrx1qCuD1E9lHET2Knwsuq4FAuxXHZi4d60mYDL5VLhbVgpKAxEU1wBQj4js2zpRTGufRtku\n",
       "CKpbHOemfM0KfefAxLxkILkU/cw3MFHHvaVUz56Lhhs12P6NdbQ5E/Mpeo0up9aB7P37T7O5SKFA\n",
       "n3OYIbqN765eX/Whvjhi3ApHHTWpZnfmCrl7FfeCxxN6e/HQNP5t39I4GkP8VVukGRaUYLeqFk4t\n",
       "z1IvdBbhw4LZDpnePazZHzgjjILN4/3Me6r2Axb+QCv+oaYWtLr5JCCQLZChdJo9aSmUP9vAQeev\n",
       "PmMF26evSVMvfXlsRjVpqggxV8F1FF+qxgCvqw/Ue1wK7+iAJ46UNTxFBgZfF+4dQUvtvBTAyf79\n",
       "W6LlQR8WxLQ7DbvKQ5PpLNcm474v8FA+XDounvKnCxkEDMxel+xqNNyy/vUlNjDN9O/+A8v+lhoT\n",
       "da2F5apz4zRP0t2GxErKBwuIuskIKsp0NXIKd7esEevDSY1o+hs3sNtV5s7hcdjh4/534TCYf6cG\n",
       "woGvGXexgKkTtG55VaZG677uyRDzDKxRd/kay7LYzejcbpVwdRrANjwgo+3bMYD70HImd2OAkToS\n",
       "qEyxonYKI1HEJJa32vbdQCoofK09JwBKQEEsvhDE8oFD1hQGcH9PD2KKSZ42CrHfa3G3/73DCxww\n",
       "BVDrOzLs1lwHLVNGGrEepzdbQZZmhFyd0CCFcNLNcAOtsKQ0j13FKGsSfVNgnrKi36jkaOuBAAAB\n",
       "+UGeyEURPD//AV1FwAQ/ZUtggcByrysAzBq/xAJrAWMin3ybr9xVCpILLf1mwEUCMKukh5686I58\n",
       "jgvtjfc78OwwQ/UHfw68Foid8DAKcMXuPSi341uRuXvcsM+thp86znTM6/8T0D9vT/4VcdaaJN2H\n",
       "u4BBDhdejmHLsqm8/9dURDGlERR7DoduyIbODF4acM56g4TnvGD7WzbpbV3Odq4/c5u7LJ3G6ExI\n",
       "DSjU8cJbLVkLLk3KTht/H2NWqfUrqTwwKuohwsWgUgvHdMV2J2+rpGPWSMRYmJG6l1CIAF4oEC0m\n",
       "jCLnAzW9VGyGQr9mMtaVNC3x2PCgxY9ZNvjR+JD5M54f3PVbvtD00bIPD1LvvduPopZCzsR3+l4G\n",
       "Vqef0fln+0JcRr2bIuzbE7KNOMCmRP35GzC8th5/wohGVlaXDpodh4PJcU1IsWUwE7SQM5YSTFfp\n",
       "S6GydA3zi2zku0NE7YBDbyr7AcQ2io36BID1PyCHN6Cbieq2+4ST55ppStZOB9CEhD8A3/mmGHdT\n",
       "WHtiMCWkI6WbUZiTXcJoQCQfYsua02Q0R8I+sCI7mGkIdY7CQY5P2mq8klxULu7mAhKjOfazrpAC\n",
       "oJxQD4TYs+/EqC6K/i5EH0lLaogmUELYdvq6zfbg9IepPEnGzfmQpap7NLDb5a/R1PgAAAFiAZ7n\n",
       "dEO/Acb0TAAvoIT0aS7sNjR+G3HlBBzWy7a/tiyH8Gl8VBnbwIerbCx8Tbv3MjYUtaEZDZ3Pvy3t\n",
       "ozYFwiivdq2/4IknBMiPNNHXqd6+j/wdXirF0r71Vv5D6Zc7qSIsys6dnJCADfT135E2mfx1JJsO\n",
       "iVoJ9uhGK8h00+P6fGRg7pWxxxLnm60vFMZfNT4rBK7rFMrIMIfbq4BEnjiTnZMAeMu3Qw+ZXXN9\n",
       "jU05XFXFb+mI1Jclq0HDFgGH+i5sT/D57o1RbNqLc7qYYDuqxcd/K+09KKzkOqomR37J5qM+9LCs\n",
       "y7fhHiDCbPN9DxMGC3zgGi8dP5STFfccVRdekM5gokOTg7iIFIJ5MOuhywMbw+DVipW0XZngeA3i\n",
       "mCNZHc3MmZZjwt/G0i/yro/SffutZ307zQYbwTw253A8TtJ5mlFvHnj6SDygSyi2hzNXeyQbSlCL\n",
       "8ZQCbzucrMVAAAAB2gGe6WpDvwGhLBA7EssDZ+SDbXYVit58FVZgAHFrve8okIpb49tL004sf6J7\n",
       "EifMDX+bHLxfkzJt98yHxynHO+hbU/QFa+mWEN/oQ8uaqTAmnH9CSoc7asfZ5ciShTqN3pbggG4s\n",
       "e4pOKZDPpnKpTj24v+6BJf5uQ5qyaIEMgqTk8RNe0T+wrmCzYtge0zHMYzeWgR2DwzKF7xRkAwII\n",
       "ZM7pKVdLnpQuamfgxF0VIAOblccTyDBv7HSNCBG8K1jlfBscdWQiEnqIhdVScS9Tm2C8ABxQNn0g\n",
       "jseCizhYXlUDaTAxItUnxZdihdyzsUP6T21Erk4kTzx/IHtud2Fx46+/41OSiPacroNlh2FuoQW+\n",
       "ZIHH33nSUxuo81P2ofTSmZCFvzgzjWKYfDdig4rA+jZcCrW9WwWTMZd34O158lgXr6yH2GTFc542\n",
       "4frf1OvG6yP1eSjb4QQkbkgx5973yfHj9rVms6zN59xEG73bvIETb4oYYi31TprQGz2ucGPaIb8m\n",
       "NrAj93U5uNSm2D9N1BXmSt87itNrKaUUuuIphAXivv7TWsr3UnD0swswu43OG2D7tdknlw8FNDIF\n",
       "SvlK63R1iUsMHVKPZZPvBPqwHDdWhwB+SBVK/ymWwQAAAkVBmu5JqEFomUwIf//+qZY/Xy8AH8CE\n",
       "29iF2+gM5jLt9lcEx+k133tRJMNGM7V89iwmQ4/1Gp64ZbVQn2fJb2EbL1/I6k/FuvK6qyKn/Pew\n",
       "FrkuNbzsLiroRw1p6a06SreehYyvBfEuRZdCFFjPiPoncY9Thf5pyTYq/pL+9ReLyuLglT394F/1\n",
       "fr7f/0EQ8k6aHE+9wH8954Agu8GylA3I7GqqiDR182HkI0ZTYbInMy711Sc9pkjoab74kLxXvu0c\n",
       "0sueiKORZWTGSCiuiSv9NQVp2WSHnVn9SetBXarxPghDIMI2vg7GM9rB6RDWLNN0qTW42V7UHdI7\n",
       "L0nrW4zUppLmzZBHDC0usKh2v963LxgevkPvFlBzhySj/Bd07cPtRArxXtQs+8OZaL9bg9BuAkK1\n",
       "MgQaH91ZML3GzTonOBxlbuPxiK0oYCXzEuDTuNxt4U5u4EeciwQrblwCHYtAUSVkM4WJbP4hLM9L\n",
       "HljWtSbkDAG0QWorZJh3c4y9zksmnmuDi6RAsEprzZKvtH3fBKTtP1TXMdcWvIeSmW7lca6iIXip\n",
       "bHE4XfPJP2n0bBcm736wt4Q+RWBtNfMMo1ZVALDzT8jNEc/TgGAgvIA3EatYOLAwvuhL/Ul/7fwx\n",
       "zKZn/DSPATjXOGA6N9Hp6zBXE3qxc/e+9YnaLM3jwQ7csStxJ20ZbBPDOwF2HxC4hbY7YyqtYnln\n",
       "MmYdQzl9EM2y8e6tKXJgFlVm+k+CepQmHVhNrKN9IxAqD4ZT4D4n4mj4JAWdsAAAAhpBnwxFESw/\n",
       "/wFado7ABtTXm31Gc9R3UUxTsd3wTsnEjE3SIS3pexn7TVCPbNuOSDozz2maMB/pqXYp4gvDvd5d\n",
       "pTNw72lMTlaqlmhHzMGyPn2teRDhRQTjl3anQxM8Gfi5s1jJEnqoAyEfUeN5IR4M9iKZ4gkjdksR\n",
       "ytgLnIPsgFDCLU3XShg0rykBMJ3dmOGutwyZ9+IZB4hlACaBrRDnVzpwXftYC+LkHG9bfP6cf8ey\n",
       "fvxQ/Sm5+VoYfB4b5+64u/yJa2dfJaTw9UzE/s/qsYXqnKGFHiNxtYxvmOsPwtrfEL6vre0yCApK\n",
       "UpMY8z+C5KqoQ0EpK5sYh7z+8xs78o7CDu5bdrtCWNN6dgs8XiwXmg62HPcUsApDB6ZlJ7jfEkQR\n",
       "hlUFr6YA15BBF03oOmPgg5/HNhkYtF1uMmTx0K+FSHBNTrlG0fi1vgULK/F/+nMy1j/hVlHxY7fS\n",
       "9JtIE/DZ/zWqHFy/H7ZBQdko5dJUgEr+4/AtuihvdFai2sAOlickxwFDPTphusbHHrzz6rI3/Wv2\n",
       "81To+ybcpe8Ska8D9US5Txp9Jxvvuk9m1U9rYKF37Cfkgl7oKgo2bY56uESrzzxKA20vKkEPnbAu\n",
       "wlhTvxpXSZpmfuXmhewzBICLdxgQHG4PbcENXMTCCRZQjmyAOz+cvFi4PUUI4iK0xxMli+rCzmD2\n",
       "AtMHuYlo82hYoppKtBDfGVJrAAACGgGfK3RDvwHLzUAF8v75PyIzr74SXTFZj01jFVlev/LOObWY\n",
       "4b70TIgGY/aS5ud6yoFjh9bqi1tU7+tcd0l/8L2PpVC57xbUQOroDFpqPCthGnTQqe1Cyo96Zp2Q\n",
       "Q1Y8WRUusSRnOQ+DiI3hmXWN/MH/Qkxb7+OjdR7joZ2FILYfuIILFR6uYp1kgEdjLOOa0s3YeWXu\n",
       "SLVreHjRACqNsfQNBAm+wmiPwQfAB3slQtbE2bJWQVtUJFun9vBMe61TgWCviTKBdDBGkevCb4TL\n",
       "lJHDGbx8TaE4bDV4S7kAHflRyiC/lr5V9tX/HYtsbISrWjHiVko95qmxU4NFA+VwQ3DGxd1Un7dA\n",
       "O330hF9fg5OeIA0JP5I+LW3dB7TZM84ct2VGXwdt93mKDe1Npii0kdtKIMFDUlNoONAQ4lE8Oxz3\n",
       "IlYITpId95NOf88Am3BMtSvVlsWs/yk+5tQk0XutDU7XaI8kyiGRn4ZDlTM4p5pLAKDTyH6LzCCQ\n",
       "B5vof/Etrzdj3VD7jihDD1NmiDYZz216kfigISxrtryZx4yBjYPPDUoTkilLKCNSKwpTI2juhHpk\n",
       "QfZT6Pc+63xpZaPp63mbdQXsPN7MsackKh3MxM7sgIwhVmaaxmQ5+8JiI5iWlsvvJJXIeA3MdhLp\n",
       "EZGKTE4NYF7QFGFXq0XdcEHa5KLFgQfcsJvmz+tJM0LvKpBBV5ICsgZNsw6HZIEAAAI1AZ8takO/\n",
       "AfY/rHQAO0jYl8/DSGIwd2vlGpMZaBeMK6OgwYHFjKO2GS74LxNX+jgicR3SzNVt9cbLwcaJAnKS\n",
       "41h9oLWxqmzB6vcOT9I+eioNqqRHalsQ4tfdn+jOvVaJOAcidS6PQu+YgiRC/P9Bv4OZSlIi5e9o\n",
       "qifngFWFVXYwK8iDE+CPgsatPH0x08iQ5NJjQpCwT7FD+Nr5vpZks7/KnvqDu7RLs0myM2KHTNL0\n",
       "TWmNjrw6+2xgrdVUjKNcmMtxN0aEf3Dmca9ITuwpVI3gcC0KteftSqR/xz4z16BVLNJiRAgqE6Ia\n",
       "FMYg12lx1OXyg6ez+BJGV20pyfXKbIVTyUDAYV1PCCyP4OVHUFWcp//FhWf5FiIVHR3or2vfd8dr\n",
       "wMMAVLDd4/tek7ofvlyWDA8YZG2r4hmfMLrFnr5yg0FFDkQ2Lp8Ldqch8yjp/Wi+8wikcPHH2r12\n",
       "Ww7nomiTqLkxcU4PBbxFPhOEvU4ZLP2kZq1nVDANOX1eoGbt9ek94wO5L1x6sjwZFiFgLh9diQBl\n",
       "4LIFoKqjcIbiH19ny3KqmmNC5WCKGnyBCBkOK6b+yB4l2RB/xCMFD6DMgBmCJ4Kun2U5wHfoOzAW\n",
       "tQejOzJDdrZ8LO9IXzhUjd19W4uCKJMXRrYmfM+ZymtSYvb34Wp3pTWbYEnqj6No2h4hTPhFW3K3\n",
       "gG1k0vj1gwzISpYKEzmRtLg/U1OXVQ/1vGWUzdJkj8lAdq968AfiWEs4vsgkgQAAAgxBmy9JqEFs\n",
       "mUwId//+qZY/qh0+4AL3IxExCPQHDXdfrY00ucmkaXjtNXbVcEsINIXMeBQW7UAepAYDOcTlLChO\n",
       "gqtV1RdsE6mL/Kjb1By2DT/bA7VS38Oi9anqD66GjoNIelSUtkGWuNb2O36C85ih8INCWIAnWd3b\n",
       "ZoASe1Nc+Jx1DOZ9Z9jbAF0VF7b1YVrSNsgGxshBb1bh4vuK9u/oEqWQPa0rlKVK+0UoCM3MsBTc\n",
       "z8M9rdM7YagjRimlvAgQywE2vXrp6ex2jR8oFWivFdmz9L5JyO5TfnIDPpgZf0KrTbj9mHn/4s3I\n",
       "cAaiO99jswtu/aOdfEK59ZfuEi0LZ0XHdzQREyzxghwD23WzH6dJt1rKjmI+Hcn4R0yMKvDf+xYS\n",
       "EHY6ss5lq5v4r//1nepoTXWQb0jFcOTIOO8g9HFefASVZ2e3ApXJKYAdqWaTUraXnj2p7VLwokzE\n",
       "rwBCfDbjl3mpkR7XK16IRLrhd8Tz0d6r8QCHvqd3QsVc4PBlzPsD5j0jhJbIb4pmjGAT3YkOZjLx\n",
       "Gqudmt5wA0CVdd6+ZoraNVsI3xLGi+2umP/+Vrj0NP6DQGDIj4cfzEJUHDXfFiJaHOI+J7Y7shap\n",
       "8Y8fKzNVsK0K5ZDUwsl0noNILLgX+eSIl81mdWWSdvCr/hcWAhJ/9alwfLBUOhVjKnxLabXgsxr1\n",
       "ZT6z0QAAA+ptb292AAAAbG12aGQAAAAAAAAAAAAAAAAAAAPoAAAJYAABAAABAAAAAAAAAAAAAAAA\n",
       "AQAAAAAAAAAAAAAAAAAAAAEAAAAAAAAAAAAAAAAAAEAAAAAAAAAAAAAAAAAAAAAAAAAAAAAAAAAA\n",
       "AAAAAAACAAADFHRyYWsAAABcdGtoZAAAAAMAAAAAAAAAAAAAAAEAAAAAAAAJYAAAAAAAAAAAAAAA\n",
       "AAAAAAAAAQAAAAAAAAAAAAAAAAAAAAEAAAAAAAAAAAAAAAAAAEAAAAABIAAAASAAAAAAACRlZHRz\n",
       "AAAAHGVsc3QAAAAAAAAAAQAACWAAAAwAAAEAAAAAAoxtZGlhAAAAIG1kaGQAAAAAAAAAAAAAAAAA\n",
       "ACgAAABgAFXEAAAAAAAtaGRscgAAAAAAAAAAdmlkZQAAAAAAAAAAAAAAAFZpZGVvSGFuZGxlcgAA\n",
       "AAI3bWluZgAAABR2bWhkAAAAAQAAAAAAAAAAAAAAJGRpbmYAAAAcZHJlZgAAAAAAAAABAAAADHVy\n",
       "bCAAAAABAAAB93N0YmwAAAC3c3RzZAAAAAAAAAABAAAAp2F2YzEAAAAAAAAAAQAAAAAAAAAAAAAA\n",
       "AAAAAAABIAEgAEgAAABIAAAAAAAAAAEAAAAAAAAAAAAAAAAAAAAAAAAAAAAAAAAAAAAAAAAAAAAY\n",
       "//8AAAA1YXZjQwFkAAz/4QAYZ2QADKzZQSCWhAAAAwAMAAADAKA8UKZYAQAGaOvjyyLA/fj4AAAA\n",
       "ABx1dWlka2hA8l8kT8W6OaUbzwMj8wAAAAAAAAAYc3R0cwAAAAAAAAABAAAAEAAABgAAAAAUc3Rz\n",
       "cwAAAAAAAAABAAAAAQAAAIhjdHRzAAAAAAAAAA8AAAABAAAMAAAAAAEAABIAAAAAAQAABgAAAAAB\n",
       "AAASAAAAAAEAAAYAAAAAAgAADAAAAAABAAAeAAAAAAEAAAwAAAAAAQAAAAAAAAABAAAGAAAAAAEA\n",
       "AB4AAAAAAQAADAAAAAABAAAAAAAAAAEAAAYAAAAAAQAADAAAAAAcc3RzYwAAAAAAAAABAAAAAQAA\n",
       "ABAAAAABAAAAVHN0c3oAAAAAAAAAAAAAABAAABK7AAAC4gAAAMAAAAHyAAABMwAAAccAAAG1AAAC\n",
       "pgAAAf0AAAFmAAAB3gAAAkkAAAIeAAACHgAAAjkAAAIQAAAAFHN0Y28AAAAAAAAAAQAAADAAAABi\n",
       "dWR0YQAAAFptZXRhAAAAAAAAACFoZGxyAAAAAAAAAABtZGlyYXBwbAAAAAAAAAAAAAAAAC1pbHN0\n",
       "AAAAJal0b28AAAAdZGF0YQAAAAEAAAAATGF2ZjU5LjI3LjEwMA==\n",
       "\">\n",
       "  Your browser does not support the video tag.\n",
       "</video>"
      ],
      "text/plain": [
       "<matplotlib.animation.FuncAnimation at 0x13103b6d0>"
      ]
     },
     "execution_count": 8,
     "metadata": {},
     "output_type": "execute_result"
    },
    {
     "data": {
      "text/plain": [
       "<Figure size 432x288 with 0 Axes>"
      ]
     },
     "metadata": {},
     "output_type": "display_data"
    }
   ],
   "source": [
    "trajectory_p = math.stack(trajectory_p, batch('time'))\n",
    "target_time = math.stack([p_t]*STEPS, batch('time'))\n",
    "\n",
    "vis.plot({ \n",
    "    \"trajectory\": vis.overlay(\n",
    "        PointCloud(trajectory_p, bounds=DOMAIN),\n",
    "        PointCloud(target_time, bounds=DOMAIN, color=\"red\")\n",
    "    )},\n",
    "    animate='time',\n",
    "    same_scale=False,\n",
    "    size=(4,4),\n",
    "    frame_time=150\n",
    ")"
   ]
  },
  {
   "cell_type": "code",
   "execution_count": 9,
   "id": "eb220f93",
   "metadata": {},
   "outputs": [],
   "source": [
    "# Generate smoke trajectory\n",
    "smoke_traj = [shape_0.get_smoke()]\n",
    "w = w_init\n",
    "\n",
    "for t in range(STEPS-1):\n",
    "    # Step velocity\n",
    "    w = eigenfluid.step_w_euler(w, DT, viscosity=VISCOSITY)\n",
    "    # Add control forces\n",
    "    w += f_optim.time[t]\n",
    "    \n",
    "    velocity = eigenfluid.reconstruct_velocity(w)\n",
    "    smoke = advect.mac_cormack(smoke_traj[-1], velocity, dt=DT)\n",
    "    smoke_traj.append(smoke)"
   ]
  },
  {
   "cell_type": "code",
   "execution_count": 14,
   "id": "88475d6d",
   "metadata": {},
   "outputs": [
    {
     "data": {
      "image/png": "[encoded data removed]",
      "text/plain": [
       "<Figure size 864x504 with 9 Axes>"
      ]
     },
     "metadata": {
      "needs_background": "light"
     },
     "output_type": "display_data"
    }
   ],
   "source": [
    "target_smoke = shape_target.get_smoke()\n",
    "\n",
    "pylab.subplots(1, 9, sharey='row', sharex='col', figsize=(12, 7))\n",
    "pylab.tight_layout(w_pad=0)\n",
    "for t in range(9):\n",
    "    pylab.subplot(1, 9, (t+1))\n",
    "    if t == 8:\n",
    "        pylab.title('target\\nt=15')\n",
    "        pylab.imshow(target_smoke.values - smoke_traj[-1].values, origin='upper')\n",
    "    else:\n",
    "        pylab.title('t={}'.format(t*2))\n",
    "        pylab.imshow(smoke_traj[(t*2)].values, origin='upper')"
   ]
  },
  {
   "cell_type": "code",
   "execution_count": 41,
   "id": "ef524394",
   "metadata": {},
   "outputs": [
    {
     "data": {
      "text/plain": [
       "\u001b[92m(timeᵇ=16, iⁱ=7, vectorᶜ=x,y)\u001b[0m \u001b[94m1.497 ± 0.665\u001b[0m \u001b[37m(5e-01...3e+00)\u001b[0m"
      ]
     },
     "execution_count": 41,
     "metadata": {},
     "output_type": "execute_result"
    }
   ],
   "source": [
    "trajectory_p"
   ]
  },
  {
   "cell_type": "code",
   "execution_count": 54,
   "id": "e7b7bf22",
   "metadata": {},
   "outputs": [
    {
     "data": {
      "text/plain": [
       "<Figure size 864x360 with 9 Axes>"
      ]
     },
     "execution_count": 54,
     "metadata": {},
     "output_type": "execute_result"
    },
    {
     "data": {
      "image/png": "[encoded data removed]",
      "text/plain": [
       "<Figure size 864x360 with 9 Axes>"
      ]
     },
     "metadata": {
      "needs_background": "light"
     },
     "output_type": "display_data"
    }
   ],
   "source": [
    "# Sorry clean code :(\n",
    "time_steps = [0,2,4,6,8,10,12,14,15]\n",
    "pointclouds = [PointCloud(trajectory_p.time[t], bounds=DOMAIN) for t in range(trajectory_p.time.size)]\n",
    "plot_dict = {}\n",
    "for t in time_steps:\n",
    "    plot_dict[\"t={}\".format(t)] = pointclouds[t]\n",
    "\n",
    "vis.plot(\n",
    "    plot_dict, bounds=DOMAIN\n",
    ")"
   ]
  },
  {
   "cell_type": "code",
   "execution_count": null,
   "id": "6b5e27d5",
   "metadata": {},
   "outputs": [],
   "source": []
  }
 ],
 "metadata": {
  "kernelspec": {
   "display_name": "Python 3 (ipykernel)",
   "language": "python",
   "name": "python3"
  },
  "language_info": {
   "codemirror_mode": {
    "name": "ipython",
    "version": 3
   },
   "file_extension": ".py",
   "mimetype": "text/x-python",
   "name": "python",
   "nbconvert_exporter": "python",
   "pygments_lexer": "ipython3",
   "version": "3.9.14"
  }
 },
 "nbformat": 4,
 "nbformat_minor": 5
}
