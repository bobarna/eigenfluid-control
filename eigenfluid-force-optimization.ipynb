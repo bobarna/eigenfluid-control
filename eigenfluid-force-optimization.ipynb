{
 "cells": [
  {
   "cell_type": "markdown",
   "id": "527ef3dc",
   "metadata": {},
   "source": [
    "# Eigenfluid Control Force Optimization\n",
    "\n",
    "In this notebook, we optimize for a control force vector $\\textbf{f} \\in \\mathbb{R}^{t \\times N}$, where $t$ is the number of timesteps simulated, and $N$ is the number of basis coefficients in the Eigenfluid simulation.\n",
    "\n",
    "$\\text{Loss}(\\textbf{p}_0, \\textbf{p}_t, \\textbf{f}, \\textbf{w}_0) = \n",
    "\\left|\\left|\n",
    "    (\\mathcal{P}\\circ\\mathcal{F}_f)^t(\\textbf{p}_0, \\textbf{w}_0) - \\textbf{p}_t\n",
    "\\right|\\right|_2^2$\n",
    "\n",
    "TIME_STEPS is fixed (=16)"
   ]
  },
  {
   "cell_type": "code",
   "execution_count": 1,
   "id": "3aa0c066",
   "metadata": {},
   "outputs": [],
   "source": [
    "from phi.torch.flow import *\n",
    "import matplotlib.pyplot as plt\n",
    "\n",
    "from src.eigenfluid import Eigenfluid\n",
    "from src.shapes import *\n",
    "\n",
    "# Helper functions for visualization\n",
    "from src.visu import *\n",
    "\n",
    "import time"
   ]
  },
  {
   "cell_type": "code",
   "execution_count": 2,
   "id": "96f70671",
   "metadata": {},
   "outputs": [
    {
     "name": "stdout",
     "output_type": "stream",
     "text": [
      "Eigenfluid initialized in 7.644428968429565 seconds\n"
     ]
    }
   ],
   "source": [
    "# Number of basis fields\n",
    "N = 4**2\n",
    "# Domain sizes\n",
    "DOMAIN = Box(x=math.PI, y=math.PI)\n",
    "SAMPLING_SIZE = 32\n",
    "\n",
    "start_time = time.time()\n",
    "eigenfluid = Eigenfluid(N, DOMAIN, SAMPLING_SIZE)\n",
    "end_time = time.time()\n",
    "print(\"Eigenfluid initialized in {} seconds\".format(end_time-start_time))"
   ]
  },
  {
   "cell_type": "markdown",
   "id": "29021365",
   "metadata": {},
   "source": [
    "# Initialize Start and Target Points"
   ]
  },
  {
   "cell_type": "code",
   "execution_count": 3,
   "id": "29e5c177",
   "metadata": {},
   "outputs": [
    {
     "data": {
      "text/plain": [
       "<Figure size 300x300 with 1 Axes>"
      ]
     },
     "execution_count": 3,
     "metadata": {},
     "output_type": "execute_result"
    },
    {
     "data": {
      "image/png": "[encoded data removed]",
      "text/plain": [
       "<Figure size 300x300 with 1 Axes>"
      ]
     },
     "metadata": {},
     "output_type": "display_data"
    }
   ],
   "source": [
    "shape_0 = Square(pos=(0.5, 0.5))\n",
    "shape_target = Triangle(pos=(2, 2))\n",
    "\n",
    "# Get O overlapping, and U non-necessarily overlapping ('unique') sample points\n",
    "O = 10\n",
    "U = 10\n",
    "\n",
    "p_0, p_t = get_points_for_shapes(shape_0, shape_target, O, U)\n",
    "\n",
    "plot({\"Blue: start\\nRed: target\": \n",
    "     vis.overlay(\n",
    "        PointCloud(p_0, bounds=DOMAIN),\n",
    "        PointCloud(p_t, bounds=DOMAIN, color=\"red\")\n",
    "     )},\n",
    "     size=(3,3)\n",
    ")"
   ]
  },
  {
   "cell_type": "markdown",
   "id": "1d927b1f",
   "metadata": {},
   "source": [
    "# Loss Function"
   ]
  },
  {
   "cell_type": "code",
   "execution_count": 7,
   "id": "08629f5b",
   "metadata": {},
   "outputs": [],
   "source": [
    "STEPS = 16\n",
    "DT    = 0.2\n",
    "VISCOSITY = 0.0\n",
    "\n",
    "# Initialize the force vector to zero\n",
    "f_optim = math.zeros(eigenfluid.w.shape & batch(time=STEPS-1))\n",
    "\n",
    "def loss_function(f_optim, w, p, p_target):\n",
    "    trajectory_p = [p]\n",
    "    for t in range(STEPS-1):\n",
    "        # Step velocity\n",
    "        w = eigenfluid.step_w_euler(w, DT, viscosity=VISCOSITY)\n",
    "        # Add control forces\n",
    "        w += f_optim.time[t]\n",
    "        # Get velocities at new positions\n",
    "        v_phi = eigenfluid.phi_template(w, eigenfluid.N, eigenfluid.basis_fields)\n",
    "        p_velocities = v_phi(p)\n",
    "        # Midpoint\n",
    "        p_velocities = v_phi(p + p_velocities*DT/2)\n",
    "        # Euler step for points\n",
    "        p += p_velocities * DT\n",
    "        trajectory_p.append(p)\n",
    "    # Normalizing by the number of sample points\n",
    "    loss = field.l2_loss(p - p_target) / p.i.size\n",
    "    return (loss, trajectory_p)\n",
    "\n",
    "gradient_function = math.gradient(loss_function)"
   ]
  },
  {
   "cell_type": "code",
   "execution_count": 5,
   "id": "ae6db7e0",
   "metadata": {},
   "outputs": [
    {
     "name": "stdout",
     "output_type": "stream",
     "text": [
      "Initial Loss: \u001b[94m2.2304413\u001b[0m\n"
     ]
    }
   ],
   "source": [
    "w_init = eigenfluid.w\n",
    "\n",
    "# first gradient\n",
    "(loss, trajectory_p), grad = gradient_function(f_optim, w_init, p_0, p_t)\n",
    "print(\"Initial Loss: {}\".format(loss))"
   ]
  },
  {
   "cell_type": "code",
   "execution_count": 8,
   "id": "89514236",
   "metadata": {},
   "outputs": [
    {
     "name": "stdout",
     "output_type": "stream",
     "text": [
      "Optimization step 0, loss: 2.230441\n",
      "Optimization step 1, loss: 1.394368\n",
      "Optimization step 2, loss: 0.929267\n",
      "Optimization step 3, loss: 0.649488\n",
      "Optimization step 4, loss: 0.432977\n",
      "Optimization step 6, loss: 0.263512\n",
      "Optimization step 9, loss: 0.158623\n",
      "Optimization step 12, loss: 0.107643\n",
      "Optimization step 15, loss: 0.082898\n",
      "Optimization step 18, loss: 0.069822\n",
      "Optimization step 21, loss: 0.061883\n",
      "LR = 0.005\n",
      "Optimization step 24, loss: 0.059015\n",
      "Optimization step 27, loss: 0.056583\n",
      "Optimization step 30, loss: 0.054483\n",
      "Optimization step 33, loss: 0.052649\n",
      "Optimization step 36, loss: 0.051034\n",
      "Optimization step 39, loss: 0.049603\n",
      "Optimization step 42, loss: 0.048328\n",
      "Optimization step 45, loss: 0.047186\n",
      "Optimization step 48, loss: 0.046160\n",
      "Optimization step 51, loss: 0.045234\n"
     ]
    }
   ],
   "source": [
    "LR = 10**-2\n",
    "\n",
    "grads = [0] #initialize to 0 for momentum\n",
    "\n",
    "for optim_step in range(52):\n",
    "    (loss, trajectory_p), grad = gradient_function(f_optim, w_init, p_0, p_t)\n",
    "    if optim_step%3 == 0 or optim_step < 5:\n",
    "        print(\"Optimization step %d, loss: %f\" % (optim_step, loss))\n",
    "    if optim_step == 21: \n",
    "        LR /= 2\n",
    "        print(\"LR = {}\".format(LR))\n",
    "        \n",
    "    grads.append( grad[0] )\n",
    "\n",
    "    # optionally with momentum\n",
    "    f_optim = f_optim - LR * (grads[-1] + 0.85*grads[-2]) "
   ]
  },
  {
   "cell_type": "code",
   "execution_count": null,
   "id": "8b686f16",
   "metadata": {},
   "outputs": [],
   "source": [
    "#trajectory_p = math.stack(trajectory_p, batch('time'))\n",
    "#target_time = math.stack([p_t]*STEPS, batch('time'))\n",
    "\n",
    "vis.plot({ \n",
    "    \"trajectory\": vis.overlay(\n",
    "        PointCloud(trajectory_p, bounds=DOMAIN),\n",
    "        PointCloud(target_time, bounds=DOMAIN, color=\"red\")\n",
    "    )},\n",
    "    animate='time',\n",
    "    same_scale=False,\n",
    "    size=(4,4),\n",
    "    frame_time=150\n",
    ")"
   ]
  }
 ],
 "metadata": {
  "kernelspec": {
   "display_name": "Python 3 (ipykernel)",
   "language": "python",
   "name": "python3"
  },
  "language_info": {
   "codemirror_mode": {
    "name": "ipython",
    "version": 3
   },
   "file_extension": ".py",
   "mimetype": "text/x-python",
   "name": "python",
   "nbconvert_exporter": "python",
   "pygments_lexer": "ipython3",
   "version": "3.10.6"
  }
 },
 "nbformat": 4,
 "nbformat_minor": 5
}
