{
 "cells": [
  {
   "cell_type": "code",
   "execution_count": 3,
   "id": "e26a893d",
   "metadata": {},
   "outputs": [],
   "source": [
    "from phi.torch.flow import *"
   ]
  },
  {
   "cell_type": "code",
   "execution_count": 4,
   "id": "378ad8ba",
   "metadata": {},
   "outputs": [
    {
     "ename": "RuntimeError",
     "evalue": "Tensors of type SparseTensorImpl do not have strides",
     "output_type": "error",
     "traceback": [
      "\u001b[0;31m---------------------------------------------------------------------------\u001b[0m",
      "\u001b[0;31mRuntimeError\u001b[0m                              Traceback (most recent call last)",
      "Input \u001b[0;32mIn [4]\u001b[0m, in \u001b[0;36m<cell line: 11>\u001b[0;34m()\u001b[0m\n\u001b[1;32m      8\u001b[0m w \u001b[38;5;241m=\u001b[39m tensor([\u001b[38;5;241m1\u001b[39m,\u001b[38;5;241m2\u001b[39m,\u001b[38;5;241m3\u001b[39m], instance(\u001b[38;5;124m'\u001b[39m\u001b[38;5;124mk\u001b[39m\u001b[38;5;124m'\u001b[39m))\n\u001b[1;32m      9\u001b[0m C_k \u001b[38;5;241m=\u001b[39m math\u001b[38;5;241m.\u001b[39mtensor(C, instance(\u001b[38;5;124m'\u001b[39m\u001b[38;5;124mk,h\u001b[39m\u001b[38;5;124m'\u001b[39m))\n\u001b[0;32m---> 11\u001b[0m Cw \u001b[38;5;241m=\u001b[39m \u001b[43mmath\u001b[49m\u001b[38;5;241;43m.\u001b[39;49m\u001b[43mdot\u001b[49m\u001b[43m(\u001b[49m\u001b[43mC_k\u001b[49m\u001b[43m,\u001b[49m\u001b[43m \u001b[49m\u001b[43m[\u001b[49m\u001b[38;5;124;43m'\u001b[39;49m\u001b[38;5;124;43mk\u001b[39;49m\u001b[38;5;124;43m'\u001b[39;49m\u001b[43m]\u001b[49m\u001b[43m,\u001b[49m\u001b[43m \u001b[49m\u001b[43mw\u001b[49m\u001b[43m,\u001b[49m\u001b[43m \u001b[49m\u001b[43m[\u001b[49m\u001b[38;5;124;43m'\u001b[39;49m\u001b[38;5;124;43mk\u001b[39;49m\u001b[38;5;124;43m'\u001b[39;49m\u001b[43m]\u001b[49m\u001b[43m)\u001b[49m\n",
      "File \u001b[0;32m~/codes/phiflow/phi/math/_ops.py:1391\u001b[0m, in \u001b[0;36mdot\u001b[0;34m(x, x_dims, y, y_dims)\u001b[0m\n\u001b[1;32m   1389\u001b[0m \u001b[38;5;28;01massert\u001b[39;00m x_dims\u001b[38;5;241m.\u001b[39mvolume \u001b[38;5;241m==\u001b[39m y_dims\u001b[38;5;241m.\u001b[39mvolume, \u001b[38;5;124mf\u001b[39m\u001b[38;5;124m\"\u001b[39m\u001b[38;5;124mFailed to reduce \u001b[39m\u001b[38;5;132;01m{\u001b[39;00mx_dims\u001b[38;5;132;01m}\u001b[39;00m\u001b[38;5;124m against \u001b[39m\u001b[38;5;132;01m{\u001b[39;00my_dims\u001b[38;5;132;01m}\u001b[39;00m\u001b[38;5;124m in dot product of \u001b[39m\u001b[38;5;132;01m{\u001b[39;00mx\u001b[38;5;241m.\u001b[39mshape\u001b[38;5;132;01m}\u001b[39;00m\u001b[38;5;124m and \u001b[39m\u001b[38;5;132;01m{\u001b[39;00my\u001b[38;5;241m.\u001b[39mshape\u001b[38;5;132;01m}\u001b[39;00m\u001b[38;5;124m. Sizes do not match.\u001b[39m\u001b[38;5;124m\"\u001b[39m\n\u001b[1;32m   1390\u001b[0m \u001b[38;5;28;01mif\u001b[39;00m remaining_shape_y\u001b[38;5;241m.\u001b[39monly(remaining_shape_x)\u001b[38;5;241m.\u001b[39mis_empty:  \u001b[38;5;66;03m# no shared batch dimensions -> tensordot\u001b[39;00m\n\u001b[0;32m-> 1391\u001b[0m     result_native \u001b[38;5;241m=\u001b[39m \u001b[43mbackend\u001b[49m\u001b[38;5;241;43m.\u001b[39;49m\u001b[43mtensordot\u001b[49m\u001b[43m(\u001b[49m\u001b[43mx_native\u001b[49m\u001b[43m,\u001b[49m\u001b[43m \u001b[49m\u001b[43mx\u001b[49m\u001b[38;5;241;43m.\u001b[39;49m\u001b[43mshape\u001b[49m\u001b[38;5;241;43m.\u001b[39;49m\u001b[43mindices\u001b[49m\u001b[43m(\u001b[49m\u001b[43mx_dims\u001b[49m\u001b[43m)\u001b[49m\u001b[43m,\u001b[49m\u001b[43m \u001b[49m\u001b[43my_native\u001b[49m\u001b[43m,\u001b[49m\u001b[43m \u001b[49m\u001b[43my\u001b[49m\u001b[38;5;241;43m.\u001b[39;49m\u001b[43mshape\u001b[49m\u001b[38;5;241;43m.\u001b[39;49m\u001b[43mindices\u001b[49m\u001b[43m(\u001b[49m\u001b[43my_dims\u001b[49m\u001b[43m)\u001b[49m\u001b[43m)\u001b[49m\n\u001b[1;32m   1392\u001b[0m     result_shape \u001b[38;5;241m=\u001b[39m concat_shapes(remaining_shape_x, remaining_shape_y)\n\u001b[1;32m   1393\u001b[0m \u001b[38;5;28;01melse\u001b[39;00m:  \u001b[38;5;66;03m# shared batch dimensions -> einsum\u001b[39;00m\n",
      "File \u001b[0;32m~/codes/phiflow/phi/torch/_torch_backend.py:362\u001b[0m, in \u001b[0;36mTorchBackend.tensordot\u001b[0;34m(self, a, a_axes, b, b_axes)\u001b[0m\n\u001b[1;32m    360\u001b[0m \u001b[38;5;28;01mdef\u001b[39;00m \u001b[38;5;21mtensordot\u001b[39m(\u001b[38;5;28mself\u001b[39m, a, a_axes: \u001b[38;5;28mtuple\u001b[39m \u001b[38;5;129;01mor\u001b[39;00m \u001b[38;5;28mlist\u001b[39m, b, b_axes: \u001b[38;5;28mtuple\u001b[39m \u001b[38;5;129;01mor\u001b[39;00m \u001b[38;5;28mlist\u001b[39m):\n\u001b[1;32m    361\u001b[0m     a, b \u001b[38;5;241m=\u001b[39m \u001b[38;5;28mself\u001b[39m\u001b[38;5;241m.\u001b[39mauto_cast(a, b)\n\u001b[0;32m--> 362\u001b[0m     \u001b[38;5;28;01mreturn\u001b[39;00m \u001b[43mtorch\u001b[49m\u001b[38;5;241;43m.\u001b[39;49m\u001b[43mtensordot\u001b[49m\u001b[43m(\u001b[49m\u001b[43ma\u001b[49m\u001b[43m,\u001b[49m\u001b[43m \u001b[49m\u001b[43mb\u001b[49m\u001b[43m,\u001b[49m\u001b[43m \u001b[49m\u001b[43m(\u001b[49m\u001b[43ma_axes\u001b[49m\u001b[43m,\u001b[49m\u001b[43m \u001b[49m\u001b[43mb_axes\u001b[49m\u001b[43m)\u001b[49m\u001b[43m)\u001b[49m\n",
      "File \u001b[0;32m~/opt/anaconda3/envs/eigenfluids/lib/python3.10/site-packages/torch/functional.py:1064\u001b[0m, in \u001b[0;36mtensordot\u001b[0;34m(a, b, dims, out)\u001b[0m\n\u001b[1;32m   1061\u001b[0m     dims_b \u001b[38;5;241m=\u001b[39m \u001b[38;5;28mlist\u001b[39m(\u001b[38;5;28mrange\u001b[39m(dims))\n\u001b[1;32m   1063\u001b[0m \u001b[38;5;28;01mif\u001b[39;00m out \u001b[38;5;129;01mis\u001b[39;00m \u001b[38;5;28;01mNone\u001b[39;00m:\n\u001b[0;32m-> 1064\u001b[0m     \u001b[38;5;28;01mreturn\u001b[39;00m \u001b[43m_VF\u001b[49m\u001b[38;5;241;43m.\u001b[39;49m\u001b[43mtensordot\u001b[49m\u001b[43m(\u001b[49m\u001b[43ma\u001b[49m\u001b[43m,\u001b[49m\u001b[43m \u001b[49m\u001b[43mb\u001b[49m\u001b[43m,\u001b[49m\u001b[43m \u001b[49m\u001b[43mdims_a\u001b[49m\u001b[43m,\u001b[49m\u001b[43m \u001b[49m\u001b[43mdims_b\u001b[49m\u001b[43m)\u001b[49m  \u001b[38;5;66;03m# type: ignore[attr-defined]\u001b[39;00m\n\u001b[1;32m   1065\u001b[0m \u001b[38;5;28;01melse\u001b[39;00m:\n\u001b[1;32m   1066\u001b[0m     \u001b[38;5;28;01mreturn\u001b[39;00m _VF\u001b[38;5;241m.\u001b[39mtensordot(a, b, dims_a, dims_b, out\u001b[38;5;241m=\u001b[39mout)\n",
      "\u001b[0;31mRuntimeError\u001b[0m: Tensors of type SparseTensorImpl do not have strides"
     ]
    }
   ],
   "source": [
    "# Experimenting with sparse matrices\n",
    "rows = [0,1,2]\n",
    "cols = [0,1,2]\n",
    "values = [1,1,1]\n",
    "shape = (3,3)\n",
    "C = phi.torch.TORCH.sparse_coo_tensor(indices=(rows,cols), values=values, shape=shape)\n",
    "#C = phi.math.sparse_coo_tensor(indices=(rows,cols), values=values, shape=shape)\n",
    "w = tensor([1,2,3], instance('k'))\n",
    "C_k = math.tensor(C, instance('k,h'))\n",
    "\n",
    "Cw = math.dot(C_k, ['k'], w, ['k'])"
   ]
  }
 ],
 "metadata": {
  "kernelspec": {
   "display_name": "Python [conda env:eigenfluids] *",
   "language": "python",
   "name": "conda-env-eigenfluids-py"
  },
  "language_info": {
   "codemirror_mode": {
    "name": "ipython",
    "version": 3
   },
   "file_extension": ".py",
   "mimetype": "text/x-python",
   "name": "python",
   "nbconvert_exporter": "python",
   "pygments_lexer": "ipython3",
   "version": "3.10.4"
  }
 },
 "nbformat": 4,
 "nbformat_minor": 5
}
