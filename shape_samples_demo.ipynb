{
 "cells": [
  {
   "cell_type": "code",
   "execution_count": null,
   "id": "9aea8119",
   "metadata": {},
   "outputs": [],
   "source": [
    "from phi.torch.flow import *\n",
    "import matplotlib.pyplot as plt\n",
    "\n",
    "from src.eigenfluid import Eigenfluid\n",
    "from src.shapes import *\n",
    "\n",
    "# Helper functions for visualization\n",
    "from src.visu import *\n",
    "\n",
    "import time"
   ]
  },
  {
   "cell_type": "code",
   "execution_count": null,
   "id": "f40929d6",
   "metadata": {},
   "outputs": [],
   "source": [
    "c = Circle(pos=(1.5, 1.5), radius=1)\n",
    "s = Square(pos=(1.5, 1.5))\n",
    "t = Triangle(pos=(0.5, 0.5))\n",
    "\n",
    "sampler_union = ShapeSampler(c, t, N=10, h1=2, h2=7)\n",
    "sampler_t = ShapeSampler(t, N=20, h1=3, h2=11)\n",
    "sampler_c = ShapeSampler(c, N=20, h1=3, h2=11)\n",
    "plot(vis.overlay(\n",
    "    PointCloud(t.create_points(sampler_t.p), bounds=Box(x=(math.PI), y=math.PI), color=\"green\"),\n",
    "    PointCloud(t.create_points(sampler_union.p), bounds=Box(x=(math.PI), y=math.PI)),\n",
    "    PointCloud(c.create_points(sampler_c.p), bounds=Box(x=(math.PI), y=math.PI), color=\"green\"),\n",
    "    PointCloud(c.create_points(sampler_union.p), bounds=Box(x=(math.PI), y=math.PI)),\n",
    "))\n"
   ]
  },
  {
   "cell_type": "code",
   "execution_count": null,
   "id": "046dfb5d",
   "metadata": {},
   "outputs": [],
   "source": [
    "c = Circle()\n",
    "plot(PointCloud(c.create_points(sampler.p)))"
   ]
  }
 ],
 "metadata": {
  "kernelspec": {
   "display_name": "Python 3 (ipykernel)",
   "language": "python",
   "name": "python3"
  },
  "language_info": {
   "codemirror_mode": {
    "name": "ipython",
    "version": 3
   },
   "file_extension": ".py",
   "mimetype": "text/x-python",
   "name": "python",
   "nbconvert_exporter": "python",
   "pygments_lexer": "ipython3",
   "version": "3.9.14"
  }
 },
 "nbformat": 4,
 "nbformat_minor": 5
}
